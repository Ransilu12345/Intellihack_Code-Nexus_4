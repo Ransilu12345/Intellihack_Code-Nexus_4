{
  "metadata": {
    "kernelspec": {
      "name": "python",
      "display_name": "Python (Pyodide)",
      "language": "python"
    },
    "language_info": {
      "codemirror_mode": {
        "name": "python",
        "version": 3
      },
      "file_extension": ".py",
      "mimetype": "text/x-python",
      "name": "python",
      "nbconvert_exporter": "python",
      "pygments_lexer": "ipython3",
      "version": "3.8"
    }
  },
  "nbformat_minor": 5,
  "nbformat": 4,
  "cells": [
    {
      "id": "52163a95-98d3-44bc-84c5-8269aa94741b",
      "cell_type": "code",
      "source": "# Import Libraries and Load Data\n\nimport pandas as pd\nimport numpy as np\nimport matplotlib.pyplot as plt\nimport seaborn as sns\nfrom sklearn.model_selection import train_test_split, cross_val_score\nfrom sklearn.metrics import mean_squared_error, mean_absolute_error\nfrom sklearn.preprocessing import StandardScaler\nfrom statsmodels.tsa.stattools import adfuller\nimport xgboost as xgb\nimport statsmodels.api as sm\nimport datetime",
      "metadata": {
        "trusted": true
      },
      "outputs": [],
      "execution_count": null
    },
    {
      "id": "684828f9-7464-4bfa-91d5-772f890ce730",
      "cell_type": "code",
      "source": "# Load your dataset (replace 'path_to_file' with the actual path)\ndf = pd.read_csv('path_to_file.csv')\ndf.head()  # Show the first few rows to inspect the data",
      "metadata": {
        "trusted": true
      },
      "outputs": [],
      "execution_count": null
    },
    {
      "id": "00047d0c-c6f7-4cb0-b997-ed2b8a8c8c2d",
      "cell_type": "code",
      "source": "# Exploratory Data Analysis (EDA)\n# 1. Data Overview:\n\ndf.info()\ndf.isnull().sum()",
      "metadata": {
        "trusted": true
      },
      "outputs": [],
      "execution_count": null
    },
    {
      "id": "6b52df33-0743-49d9-973a-433d415ea06d",
      "cell_type": "code",
      "source": "# Exploratory Data Analysis (EDA)\n# 2. Visualize the Closing Price Over Time:\n\ndf['Date'] = pd.to_datetime(df['Date'])\ndf.set_index('Date', inplace=True)\ndecomposed = sm.tsa.seasonal_decompose(df['Close'], model='multiplicative', period=30)\ndecomposed.plot()\nplt.show()",
      "metadata": {
        "trusted": true
      },
      "outputs": [],
      "execution_count": null
    },
    {
      "id": "098ce9dd-6356-449d-a978-5a0a36939b38",
      "cell_type": "code",
      "source": "# Exploratory Data Analysis (EDA)\n# 3. Check for Trends and Seasonality:\n\ncorrelation_matrix = df.corr()\nsns.heatmap(correlation_matrix, annot=True, cmap='coolwarm')\nplt.title(\"Correlation Matrix\")\nplt.show()",
      "metadata": {
        "trusted": true
      },
      "outputs": [],
      "execution_count": null
    },
    {
      "id": "6ef3614b-a6ec-4550-ace9-88fab8a4ffe9",
      "cell_type": "code",
      "source": "# Exploratory Data Analysis (EDA)\n# 4. Feature Correlation:\n\ndf['Lag_1'] = df['Close'].shift(1)\ndf['Lag_2'] = df['Close'].shift(2)\ndf['Lag_5'] = df['Close'].shift(5)\ndf['Rolling_Mean_5'] = df['Close'].rolling(window=5).mean()",
      "metadata": {
        "trusted": true
      },
      "outputs": [],
      "execution_count": null
    },
    {
      "id": "13ca0a8d-62c2-413c-8b51-de5196b5ccdc",
      "cell_type": "code",
      "source": "# Feature Engineering\n# 1.Create Lagged Features:\n\nplt.figure(figsize=(10,6))\nplt.plot(df['Date'], df['Close'], label='Closing Price')\nplt.title('Stock Closing Price Over Time')\nplt.xlabel('Date')\nplt.ylabel('Price')\nplt.xticks(rotation=45)\nplt.legend()\nplt.show()",
      "metadata": {
        "trusted": true
      },
      "outputs": [],
      "execution_count": null
    },
    {
      "id": "a4499164-d222-40b9-9eb7-d99ab1c4012a",
      "cell_type": "code",
      "source": "# Feature Engineering\n# 2. Add Moving Averages (e.g., 5-day, 20-day):\n\ndf['SMA_5'] = df['Close'].rolling(window=5).mean()\ndf['SMA_20'] = df['Close'].rolling(window=20).mean()",
      "metadata": {
        "trusted": true
      },
      "outputs": [],
      "execution_count": null
    },
    {
      "id": "83362e3c-ec7e-4bc6-9985-0fa5e6389f9d",
      "cell_type": "code",
      "source": "# Feature Engineering\n# 3. Drop missing values created by shifting and rolling:\n\ndf.dropna(inplace=True)",
      "metadata": {
        "trusted": true
      },
      "outputs": [],
      "execution_count": null
    },
    {
      "id": "4c1a62a0-e0e9-48f6-91da-22063ef9a754",
      "cell_type": "code",
      "source": "# Split Data into Training and Test Sets\n\nX = df[['Lag_1', 'Lag_2', 'Lag_5', 'SMA_5', 'SMA_20']]  # Feature columns\ny = df['Close']  # Target column\n\nX_train, X_test, y_train, y_test = train_test_split(X, y, test_size=0.2, shuffle=False)",
      "metadata": {
        "trusted": true
      },
      "outputs": [],
      "execution_count": null
    },
    {
      "id": "2efa09f2-ef79-423d-9259-9a66d060c5c3",
      "cell_type": "code",
      "source": "# Model Selection and Training\n# 1. XGBoost Model:\n\nmodel = xgb.XGBRegressor()\nmodel.fit(X_train, y_train)",
      "metadata": {
        "trusted": true
      },
      "outputs": [],
      "execution_count": null
    },
    {
      "id": "5ced90d2-9735-46be-abc4-7d35f61ff4b1",
      "cell_type": "code",
      "source": "# Model Selection and Training\n# 2. Evaluate the Model:\n\ny_pred = model.predict(X_test)\nrmse = np.sqrt(mean_squared_error(y_test, y_pred))\nprint(f'Root Mean Squared Error: {rmse}')",
      "metadata": {
        "trusted": true
      },
      "outputs": [],
      "execution_count": null
    },
    {
      "id": "89c8c826-cc0d-48eb-a4bb-6a585fdc1ec4",
      "cell_type": "code",
      "source": "#  Visualize Model Performance\n\nplt.figure(figsize=(10,6))\nplt.plot(y_test.index, y_test, label='True Values', color='blue')\nplt.plot(y_test.index, y_pred, label='Predictions', color='red')\nplt.title('True vs Predicted Closing Price')\nplt.xlabel('Date')\nplt.ylabel('Price')\nplt.legend()\nplt.show()",
      "metadata": {
        "trusted": true
      },
      "outputs": [],
      "execution_count": null
    }
  ]
}